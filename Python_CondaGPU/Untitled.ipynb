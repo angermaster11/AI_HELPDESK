{
 "cells": [
  {
   "cell_type": "code",
   "execution_count": 2,
   "id": "dfb69ab8-999e-49e2-8182-d94a70b56673",
   "metadata": {},
   "outputs": [
    {
     "name": "stdout",
     "output_type": "stream",
     "text": [
      "90100\n",
      "True\n"
     ]
    }
   ],
   "source": [
    "import torch\n",
    "print(torch.backends.cudnn.version())  # Should show version like 8907\n",
    "print(torch.backends.cudnn.is_available())  # Should be True\n"
   ]
  },
  {
   "cell_type": "code",
   "execution_count": 3,
   "id": "bedc36c1",
   "metadata": {},
   "outputs": [],
   "source": [
    "from faster_whisper import WhisperModel"
   ]
  },
  {
   "cell_type": "code",
   "execution_count": 4,
   "id": "506eb8e5",
   "metadata": {},
   "outputs": [
    {
     "name": "stderr",
     "output_type": "stream",
     "text": [
      "Xet Storage is enabled for this repo, but the 'hf_xet' package is not installed. Falling back to regular HTTP download. For better performance, install the package with: `pip install huggingface_hub[hf_xet]` or `pip install hf_xet`\n"
     ]
    },
    {
     "data": {
      "application/vnd.jupyter.widget-view+json": {
       "model_id": "83297855aafc4f3cb8e46d9e1169bbce",
       "version_major": 2,
       "version_minor": 0
      },
      "text/plain": [
       "config.json: 0.00B [00:00, ?B/s]"
      ]
     },
     "metadata": {},
     "output_type": "display_data"
    },
    {
     "data": {
      "application/vnd.jupyter.widget-view+json": {
       "model_id": "fbca0f5dd7ce4d3b982155de7aaf73ef",
       "version_major": 2,
       "version_minor": 0
      },
      "text/plain": [
       "tokenizer.json: 0.00B [00:00, ?B/s]"
      ]
     },
     "metadata": {},
     "output_type": "display_data"
    },
    {
     "data": {
      "application/vnd.jupyter.widget-view+json": {
       "model_id": "576e15aa043d4ad5bd37cc28a3ac2024",
       "version_major": 2,
       "version_minor": 0
      },
      "text/plain": [
       "vocabulary.txt: 0.00B [00:00, ?B/s]"
      ]
     },
     "metadata": {},
     "output_type": "display_data"
    },
    {
     "name": "stderr",
     "output_type": "stream",
     "text": [
      "c:\\Users\\anger\\miniconda3\\envs\\cudaGpu\\lib\\site-packages\\huggingface_hub\\file_download.py:143: UserWarning: `huggingface_hub` cache-system uses symlinks by default to efficiently store duplicated files but your machine does not support them in C:\\Users\\anger\\.cache\\huggingface\\hub\\models--Systran--faster-whisper-base. Caching files will still work but in a degraded version that might require more space on your disk. This warning can be disabled by setting the `HF_HUB_DISABLE_SYMLINKS_WARNING` environment variable. For more details, see https://huggingface.co/docs/huggingface_hub/how-to-cache#limitations.\n",
      "To support symlinks on Windows, you either need to activate Developer Mode or to run Python as an administrator. In order to activate developer mode, see this article: https://docs.microsoft.com/en-us/windows/apps/get-started/enable-your-device-for-development\n",
      "  warnings.warn(message)\n"
     ]
    },
    {
     "data": {
      "application/vnd.jupyter.widget-view+json": {
       "model_id": "42f0a8c710be4631bce841859b37b97b",
       "version_major": 2,
       "version_minor": 0
      },
      "text/plain": [
       "model.bin:   0%|          | 0.00/145M [00:00<?, ?B/s]"
      ]
     },
     "metadata": {},
     "output_type": "display_data"
    },
    {
     "name": "stdout",
     "output_type": "stream",
     "text": [
      " Hey dear, welcome to my YouTube channel and today's video we are going to show you how\n",
      " to use posture whisper for real time speech to text recognition and by Texas 3 for text\n",
      " to speech.\n",
      " Thanks for watching.\n"
     ]
    }
   ],
   "source": [
    "from faster_whisper import WhisperModel\n",
    "\n",
    "model = WhisperModel(\"base\", device=\"cuda\", compute_type=\"float16\")\n",
    "\n",
    "segments, info = model.transcribe(\"test.mp3\")\n",
    "for segment in segments:\n",
    "    print(segment.text)\n"
   ]
  },
  {
   "cell_type": "code",
   "execution_count": 5,
   "id": "0a2b7847",
   "metadata": {},
   "outputs": [
    {
     "name": "stdout",
     "output_type": "stream",
     "text": [
      " Hello everyone, how are you?\n",
      " Are you open?\n",
      " Well, it's so good.\n",
      " So let's start today's topic without wasting at the time.\n",
      " And it was a topic is what is photosynthesis?\n",
      " Basically photosynthesis, fine to plant, go to picnic.\n",
      " One plant, click photo of another to plant and sending to WhatsApp.\n",
      " Here the WhatsApp chat is open.\n",
      " Chat scene, photo scene.\n",
      " Photo is present, photo is disked, then photosynthesis.\n",
      "1.076246976852417\n"
     ]
    }
   ],
   "source": [
    "import time \n",
    "start = time.time()\n",
    "segments, info = model.transcribe(\"audios.mp3\")\n",
    "for segment in segments:\n",
    "    print(segment.text)\n",
    "print(time.time()-start)"
   ]
  },
  {
   "cell_type": "code",
   "execution_count": null,
   "id": "f5429730",
   "metadata": {},
   "outputs": [
    {
     "name": "stdout",
     "output_type": "stream",
     "text": [
      "Start speaking...\n"
     ]
    },
    {
     "name": "stdout",
     "output_type": "stream",
     "text": [
      "Transcription:  .\n",
      "Transcription:  .\n",
      "Transcription:  .\n",
      "Transcription:  .\n",
      "Transcription:  .\n",
      "Transcription:  .\n",
      "Transcription:  .\n",
      "Transcription:  .\n",
      "Transcription:  You\n",
      "Transcription:  You\n",
      "Transcription:  You\n",
      "Transcription:  You\n",
      "Transcription:  .\n",
      "Transcription:  .\n",
      "Transcription:  .\n",
      "Transcription:  .\n",
      "Transcription:  You\n",
      "Transcription:  .\n",
      "Transcription:  .\n",
      "Transcription:  .\n",
      "Transcription:  .\n",
      "Transcription:  You\n",
      "Transcription:  You\n",
      "Transcription:  .\n",
      "Transcription:  .\n",
      "Transcription:  .\n",
      "Transcription:  .\n",
      "Transcription:  You\n",
      "Transcription:  You\n",
      "Transcription:  You\n",
      "Transcription:  .\n",
      "Transcription:  .\n",
      "Transcription:  .\n",
      "Transcription:  .\n",
      "Transcription:  You\n",
      "Transcription:  .\n",
      "Transcription:  .\n",
      "Transcription:  .\n",
      "Transcription:  .\n",
      "Transcription:  .\n",
      "Transcription:  You\n",
      "Transcription:  .\n",
      "Transcription:  .\n",
      "Transcription:  .\n",
      "Transcription:  .\n",
      "Transcription:  You\n",
      "Transcription:  .\n",
      "Transcription:  .\n",
      "Transcription:  .\n",
      "Transcription:  .\n",
      "Transcription:  You\n",
      "Transcription:  You\n",
      "Transcription:  You\n",
      "Transcription:  You\n",
      "Transcription:  You\n",
      "Transcription:  You\n",
      "Transcription:  .\n",
      "Transcription:  .\n",
      "Transcription:  .\n",
      "Transcription:  .\n",
      "Transcription:  You\n",
      "Transcription:  .\n",
      "Transcription:  .\n",
      "Transcription:  .\n",
      "Transcription:  .\n",
      "Transcription:  You\n",
      "Transcription:  .\n",
      "Transcription:  .\n",
      "Transcription:  .\n",
      "Transcription:  .\n",
      "Transcription:  And then, the next one is the\n",
      "Transcription:  the\n",
      "Transcription:  the\n",
      "Transcription:  the\n",
      "Transcription:  the\n",
      "Transcription:  the\n",
      "Transcription:  the\n",
      "Transcription:  the\n",
      "Transcription:  the\n",
      "Transcription:  the\n",
      "Transcription:  the\n",
      "Transcription:  the\n",
      "Transcription:  the\n",
      "Transcription:  the\n",
      "Transcription:  .\n",
      "Transcription:  .\n",
      "Transcription:  .\n",
      "Transcription:  .\n",
      "Transcription:  You\n",
      "Transcription:  .\n",
      "Transcription:  .\n",
      "Transcription:  .\n",
      "Transcription:  .\n",
      "Transcription:  .\n",
      "Transcription:  .\n",
      "Transcription:  .\n",
      "Transcription:  .\n",
      "Transcription:  .\n",
      "Transcription:  .\n",
      "Transcription:  .\n",
      "Transcription:  .\n",
      "Transcription:  .\n",
      "Transcription:  .\n",
      "Transcription:  .\n",
      "Transcription:  .\n",
      "Transcription:  .\n",
      "Transcription:  .\n",
      "Transcription:  .\n",
      "Transcription:  .\n",
      "Transcription:  You\n",
      "Transcription:  .\n",
      "Transcription:  .\n",
      "Transcription:  .\n",
      "Transcription:  .\n",
      "Transcription:  .\n",
      "Transcription:  .\n",
      "Transcription:  .\n",
      "Transcription:  .\n",
      "Transcription:  You\n",
      "Transcription:  .\n",
      "Transcription:  .\n",
      "Transcription:  .\n",
      "Transcription:  .\n",
      "Transcription:  You\n",
      "Transcription:  .\n",
      "Transcription:  .\n",
      "Transcription:  .\n",
      "Transcription:  .\n",
      "Transcription:  .\n",
      "Transcription:  .\n",
      "Transcription:  .\n",
      "Transcription:  .\n",
      "Transcription:  .\n",
      "Transcription:  .\n",
      "Transcription:  .\n",
      "Transcription:  .\n",
      "Transcription:  .\n",
      "Transcription:  .\n",
      "Transcription:  .\n",
      "Transcription:  .\n",
      "Transcription:  You\n",
      "Transcription:  .\n",
      "Transcription:  .\n",
      "Transcription:  .\n",
      "Transcription:  .\n",
      "Transcription:  .\n",
      "Transcription:  .\n",
      "Transcription:  .\n",
      "Transcription:  .\n",
      "Transcription:  .\n",
      "Transcription:  .\n",
      "Transcription:  .\n",
      "Transcription:  .\n",
      "Transcription:  You\n"
     ]
    }
   ],
   "source": [
    "import pyaudio\n",
    "import numpy as np\n",
    "import torch\n",
    "from faster_whisper import WhisperModel\n",
    "import time\n",
    "import threading\n",
    "\n",
    "# Initialize Faster Whisper model (using the 'base' model)\n",
    "model_size = \"base\"  # Choose the base model for faster transcription\n",
    "model = WhisperModel(model_size, device=\"cuda\" if torch.cuda.is_available() else \"cpu\")\n",
    "\n",
    "# Parameters for microphone\n",
    "RATE = 16000  # Sample rate (must match the microphone sample rate)\n",
    "CHUNK = 1024  # Size of the audio chunk\n",
    "FORMAT = pyaudio.paInt16  # Format of audio stream\n",
    "CHANNELS = 1  # Mono channel\n",
    "FRAMES_PER_BUFFER = CHUNK\n",
    "\n",
    "# Initialize the microphone stream\n",
    "p = pyaudio.PyAudio()\n",
    "stream = p.open(format=FORMAT,\n",
    "                channels=CHANNELS,\n",
    "                rate=RATE,\n",
    "                input=True,\n",
    "                frames_per_buffer=CHUNK)\n",
    "\n",
    "print(\"Start speaking...\")\n",
    "\n",
    "# Function to capture and transcribe audio in real-time\n",
    "def capture_and_transcribe():\n",
    "    try:\n",
    "        while True:\n",
    "            # Read audio chunk from microphone\n",
    "            audio_data = np.frombuffer(stream.read(CHUNK), dtype=np.int16)\n",
    "\n",
    "            # Transcribe the captured audio using Faster Whisper\n",
    "            segments, info = model.transcribe(audio_data, language=\"en\")\n",
    "            \n",
    "            # Process the transcribed segments\n",
    "            for segment in segments:\n",
    "                print(f\"Transcription: {segment.text}\")\n",
    "                \n",
    "            time.sleep(0.5)  # Add a small delay to allow time for the next chunk\n",
    "    except KeyboardInterrupt:\n",
    "        print(\"\\nStopping transcription...\")\n",
    "\n",
    "# Run the function asynchronously in Jupyter Notebook\n",
    "# Start transcription in a separate thread to prevent blocking the main notebook\n",
    "thread = threading.Thread(target=capture_and_transcribe)\n",
    "thread.start()\n"
   ]
  },
  {
   "cell_type": "code",
   "execution_count": null,
   "id": "ab343b48",
   "metadata": {},
   "outputs": [],
   "source": [
    "pip install webrtcvad"
   ]
  }
 ],
 "metadata": {
  "kernelspec": {
   "display_name": "cudaGpu",
   "language": "python",
   "name": "python3"
  },
  "language_info": {
   "codemirror_mode": {
    "name": "ipython",
    "version": 3
   },
   "file_extension": ".py",
   "mimetype": "text/x-python",
   "name": "python",
   "nbconvert_exporter": "python",
   "pygments_lexer": "ipython3",
   "version": "3.10.18"
  }
 },
 "nbformat": 4,
 "nbformat_minor": 5
}
